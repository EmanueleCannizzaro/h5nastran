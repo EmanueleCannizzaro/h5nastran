{
 "cells": [
  {
   "cell_type": "markdown",
   "metadata": {},
   "source": [
    "# H5Nastran"
   ]
  },
  {
   "cell_type": "markdown",
   "metadata": {},
   "source": [
    "Author: Emanuele Cannizzaro"
   ]
  },
  {
   "cell_type": "code",
   "execution_count": null,
   "metadata": {},
   "outputs": [],
   "source": [
    "import glob"
   ]
  },
  {
   "cell_type": "code",
   "execution_count": null,
   "metadata": {},
   "outputs": [],
   "source": [
    "import sys\n",
    "import os\n",
    "LIBRARIES = ['../h5nastran', '../../../workspace/pyNastran']\n",
    "for lib in LIBRARIES:\n",
    "    if not os.path.exists(lib) :\n",
    "        print('The specified libray path does not exists.')\n",
    "        sys.exit(1)\n",
    "    if os.path.abspath(lib) not in sys.path:\n",
    "        sys.path.append(os.path.abspath(lib))\n",
    "import h5nastran\n",
    "import pyNastran"
   ]
  },
  {
   "cell_type": "code",
   "execution_count": null,
   "metadata": {},
   "outputs": [],
   "source": [
    "ifolder = os.path.join('..', 'data')"
   ]
  },
  {
   "cell_type": "code",
   "execution_count": null,
   "metadata": {},
   "outputs": [],
   "source": [
    "files = glob.glob(os.path.join(ifolder, 'myfile.f06'))\n",
    "files[:5]"
   ]
  },
  {
   "cell_type": "code",
   "execution_count": null,
   "metadata": {},
   "outputs": [],
   "source": [
    "for ifile in files[:5] :\n",
    "    basename = os.path.basename(ifile)\n",
    "    ofile = os.path.join('..', 'output', basename.replace('.f06', '.h5'))\n",
    "    print(ofile)\n",
    "    if not os.path.exists(ofile) :\n",
    "        db = h5nastran.H5Nastran(ofile, 'w')  # , in_memory=True)\n",
    "        try :\n",
    "            db.load_f06(ifile)\n",
    "        except :\n",
    "            pass    \n",
    "        db.close()"
   ]
  }
 ],
 "metadata": {
  "kernelspec": {
   "display_name": "Python 3.6",
   "language": "python",
   "name": "py36"
  },
  "language_info": {
   "codemirror_mode": {
    "name": "ipython",
    "version": 3
   },
   "file_extension": ".py",
   "mimetype": "text/x-python",
   "name": "python",
   "nbconvert_exporter": "python",
   "pygments_lexer": "ipython3",
   "version": "3.6.3"
  }
 },
 "nbformat": 4,
 "nbformat_minor": 2
}
