{
 "cells": [
  {
   "cell_type": "markdown",
   "metadata": {},
   "source": [
    "# H5Nastran"
   ]
  },
  {
   "cell_type": "code",
   "execution_count": null,
   "metadata": {},
   "outputs": [],
   "source": [
    "#import numpy as np"
   ]
  },
  {
   "cell_type": "code",
   "execution_count": null,
   "metadata": {},
   "outputs": [],
   "source": []
  },
  {
   "cell_type": "code",
   "execution_count": null,
   "metadata": {},
   "outputs": [],
   "source": [
    "import sys\n",
    "import os\n",
    "LIBRARIES = ['../h5nastran', '../../../workspace/pyNastran']\n",
    "for lib in LIBRARIES:\n",
    "    if not os.path.exists(lib) :\n",
    "        print('The specified libray path does not exists.')\n",
    "        sys.exit(1)\n",
    "    if os.path.abspath(lib) not in sys.path:\n",
    "        sys.path.append(os.path.abspath(lib))\n",
    "import h5nastran\n",
    "import pyNastran"
   ]
  },
  {
   "cell_type": "code",
   "execution_count": null,
   "metadata": {},
   "outputs": [],
   "source": [
    "#dir(h5nastran)"
   ]
  },
  {
   "cell_type": "code",
   "execution_count": null,
   "metadata": {},
   "outputs": [],
   "source": [
    "db = h5nastran.H5Nastran('../models/model_001.pch.h5', 'w')  # , in_memory=True)\n",
    "db.load_bdf('../models/model_001.bdf')\n",
    "db.load_punch('../models/model_001.pch')\n",
    "#f573100a.pch"
   ]
  },
  {
   "cell_type": "code",
   "execution_count": null,
   "metadata": {},
   "outputs": [],
   "source": [
    "print(db.input.node.grid.identity)  # or db.input.node.grid.grid"
   ]
  },
  {
   "cell_type": "code",
   "execution_count": null,
   "metadata": {},
   "outputs": [],
   "source": [
    "print(db.result.nodal.displacement.table_def.indices.indices) # .nodal.displacement.search(data_ids=[1, 2])"
   ]
  },
  {
   "cell_type": "code",
   "execution_count": null,
   "metadata": {},
   "outputs": [],
   "source": [
    "print(db.result.elemental.element_force.quad4.table_def.indices.indices) "
   ]
  },
  {
   "cell_type": "code",
   "execution_count": null,
   "metadata": {},
   "outputs": [],
   "source": [
    "domain_ids = range(10)\n",
    "print(domain_ids)\n",
    "elements = [1, 5, 75]\n",
    "print(elements)\n",
    "f = db.result.elemental.element_force.quad4.search(elements, domain_ids)\n",
    "print(f)"
   ]
  },
  {
   "cell_type": "code",
   "execution_count": null,
   "metadata": {},
   "outputs": [],
   "source": [
    "#print(2 * f + 3 * f)\n",
    "\n",
    "f = db.result.elemental.element_force.search(elements, domain_ids)\n",
    "print(f.quad4)"
   ]
  },
  {
   "cell_type": "code",
   "execution_count": null,
   "metadata": {},
   "outputs": [],
   "source": []
  },
  {
   "cell_type": "code",
   "execution_count": null,
   "metadata": {},
   "outputs": [],
   "source": [
    "# vec = db.input.coordinate_system.h5n_transformation.vector_to_basic([1, 1, 1], 1)\n",
    "\n",
    "# print(vec)\n",
    "\n",
    "# pynastran bdf\n",
    "#bdf = db.bdf\n",
    "\n",
    "# currently, to modify the bdf and rewrite to h5,\n",
    "# you'd need to modify the pynastran bdf, write it to a new file and create a new h5 database"
   ]
  },
  {
   "cell_type": "code",
   "execution_count": null,
   "metadata": {},
   "outputs": [],
   "source": [
    "# currently, the entire bdf is written to h5 as written by pynastran\n",
    "# it can be loaded by doing db.load_bdf() without a filename\n",
    "# the goal is to recreate the bdf file from only the h5 data\n",
    "\n",
    "db.visualize()"
   ]
  },
  {
   "cell_type": "code",
   "execution_count": null,
   "metadata": {},
   "outputs": [],
   "source": [
    "db.close()"
   ]
  },
  {
   "cell_type": "code",
   "execution_count": null,
   "metadata": {},
   "outputs": [],
   "source": []
  }
 ],
 "metadata": {
  "kernelspec": {
   "display_name": "Python 3.6",
   "language": "python",
   "name": "py36"
  },
  "language_info": {
   "codemirror_mode": {
    "name": "ipython",
    "version": 3
   },
   "file_extension": ".py",
   "mimetype": "text/x-python",
   "name": "python",
   "nbconvert_exporter": "python",
   "pygments_lexer": "ipython3",
   "version": "3.6.3"
  }
 },
 "nbformat": 4,
 "nbformat_minor": 2
}
